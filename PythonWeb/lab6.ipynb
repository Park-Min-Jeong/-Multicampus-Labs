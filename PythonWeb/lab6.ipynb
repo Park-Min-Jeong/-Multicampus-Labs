{
 "cells": [
  {
   "cell_type": "code",
   "execution_count": 1,
   "id": "cd2f40fd-58dd-4da2-a642-05afd7bfb863",
   "metadata": {},
   "outputs": [],
   "source": [
    "import pandas as pd"
   ]
  },
  {
   "cell_type": "code",
   "execution_count": 2,
   "id": "7eb3453b-0029-4e77-a1de-06a5f01b1c36",
   "metadata": {},
   "outputs": [
    {
     "name": "stdout",
     "output_type": "stream",
     "text": [
      "<class 'pandas.core.series.Series'>\n",
      "0    10\n",
      "1    20\n",
      "2    30\n",
      "3    40\n",
      "4    50\n",
      "dtype: int64\n"
     ]
    }
   ],
   "source": [
    "# 1\n",
    "s1 = pd.Series([10, 20, 30, 40, 50])\n",
    "print(type(s1))\n",
    "print(s1)"
   ]
  },
  {
   "cell_type": "code",
   "execution_count": 3,
   "id": "ad1396ee-b938-4de0-89aa-eaf04e25075c",
   "metadata": {},
   "outputs": [
    {
     "name": "stdout",
     "output_type": "stream",
     "text": [
      "<class 'pandas.core.series.Series'>\n",
      "a    1\n",
      "b    2\n",
      "c    3\n",
      "d    4\n",
      "e    5\n",
      "dtype: int64\n"
     ]
    }
   ],
   "source": [
    "# 2\n",
    "s2 = pd.Series({\"a\":1, \"b\":2, \"c\":3, \"d\":4, \"e\":5})\n",
    "print(type(s2))\n",
    "print(s2)"
   ]
  },
  {
   "cell_type": "code",
   "execution_count": 4,
   "id": "d4ceec16-131b-4d4b-aee1-b1c748ed2eb6",
   "metadata": {},
   "outputs": [
    {
     "name": "stdout",
     "output_type": "stream",
     "text": [
      "<class 'pandas.core.series.Series'>\n",
      "학생1     둘리\n",
      "학생2     또치\n",
      "학생3    도우너\n",
      "학생4    희동이\n",
      "학생5    마이콜\n",
      "dtype: object\n"
     ]
    }
   ],
   "source": [
    "# 3\n",
    "s3 = pd.Series({\"학생1\": \"둘리\",\n",
    "                \"학생2\": \"또치\",\n",
    "                \"학생3\": \"도우너\",\n",
    "                \"학생4\": \"희동이\",\n",
    "                \"학생5\": \"마이콜\",})\n",
    "print(type(s3))\n",
    "print(s3)"
   ]
  },
  {
   "cell_type": "code",
   "execution_count": 5,
   "id": "e80f2f97-8e43-4559-b37f-cc1fa841af7d",
   "metadata": {},
   "outputs": [
    {
     "name": "stdout",
     "output_type": "stream",
     "text": [
      "<class 'pandas.core.series.Series'>\n",
      "학생1     둘리\n",
      "학생2     또치\n",
      "학생3    도우너\n",
      "학생4    희동이\n",
      "학생5    마이콜\n",
      "dtype: object\n"
     ]
    }
   ],
   "source": [
    "# 4\n",
    "s4 = pd.Series([\"둘리\", \"또치\", \"도우너\", \"희동이\", \"마이콜\"], \n",
    "               index=[\"학생1\", \"학생2\", \"학생3\", \"학생4\", \"학생5\"])\n",
    "print(type(s4))\n",
    "print(s4)"
   ]
  },
  {
   "cell_type": "code",
   "execution_count": 6,
   "id": "167f19a2-2587-4305-bc9f-bbb0f17d83de",
   "metadata": {},
   "outputs": [
    {
     "name": "stdout",
     "output_type": "stream",
     "text": [
      "[시리즈 sr 출력]\n",
      "A형     34.2\n",
      "B형     27.1\n",
      "O형     26.7\n",
      "AB형    11.5\n",
      "dtype: float64\n",
      "[시리즈 sr에서 인덱싱과 슬라이싱하여 출력(숫자인덱스 사용)]\n",
      "34.2\n",
      "11.5\n",
      "27.1\n",
      "B형     27.1\n",
      "O형     26.7\n",
      "AB형    11.5\n",
      "dtype: float64\n",
      "[시리즈 sr에서 인덱싱과 슬라이싱하여 출력(이름인덱스 사용)]\n",
      "34.2\n",
      "11.5\n",
      "27.1\n",
      "B형     27.1\n",
      "O형     26.7\n",
      "AB형    11.5\n",
      "dtype: float64\n",
      "[시리즈 sr의 크기 출력]\n",
      "4\n",
      "[시리즈 sr의 인덱스 출력]\n",
      "Index(['A형', 'B형', 'O형', 'AB형'], dtype='object')\n",
      "[시리즈 sr의 데이터 값 출력]\n",
      "[34.2 27.1 26.7 11.5]\n"
     ]
    }
   ],
   "source": [
    "# 5\n",
    "blood = [\"A형\", \"B형\", \"O형\", \"AB형\"]\n",
    "st = [34.2, 27.1, 26.7, 11.5]\n",
    "sr = pd.Series(st, index=blood)\n",
    "\n",
    "print(\"[시리즈 sr 출력]\")\n",
    "print(sr)\n",
    "\n",
    "print(\"[시리즈 sr에서 인덱싱과 슬라이싱하여 출력(숫자인덱스 사용)]\")\n",
    "print(sr[0])\n",
    "print(sr[-1])\n",
    "print(sr[1])\n",
    "print(sr[1:4])\n",
    "\n",
    "print(\"[시리즈 sr에서 인덱싱과 슬라이싱하여 출력(이름인덱스 사용)]\")\n",
    "print(sr[\"A형\"])\n",
    "print(sr[\"AB형\"])\n",
    "print(sr[\"B형\"])\n",
    "print(sr[\"B형\":\"AB형\"])\n",
    "\n",
    "print(\"[시리즈 sr의 크기 출력]\")\n",
    "print(len(sr))\n",
    "\n",
    "print(\"[시리즈 sr의 인덱스 출력]\")\n",
    "print(sr.index)\n",
    "\n",
    "print(\"[시리즈 sr의 데이터 값 출력]\")\n",
    "print(sr.values)"
   ]
  },
  {
   "cell_type": "code",
   "execution_count": 7,
   "id": "ec6e3798-8e81-4f2b-ad9b-a1b5571ab61f",
   "metadata": {},
   "outputs": [
    {
     "name": "stdout",
     "output_type": "stream",
     "text": [
      "타입: <class 'pandas.core.frame.DataFrame'>\n",
      "  name  kor  eng  mat\n",
      "0   둘리   90   99   90\n",
      "1   또치   80   98   70\n",
      "2  도우너   70   97   70\n",
      "3  희동이   70   46   60\n"
     ]
    }
   ],
   "source": [
    "# 6\n",
    "df1 = pd.DataFrame({\"name\": [\"둘리\", \"또치\", \"도우너\", \"희동이\"],\n",
    "                    \"kor\": [90, 80, 70, 70],\n",
    "                    \"eng\": [99, 98, 97, 46], \n",
    "                    \"mat\": [90, 70, 70, 60]})\n",
    "\n",
    "print(\"타입:\", type(df1))\n",
    "print(df1)"
   ]
  },
  {
   "cell_type": "code",
   "execution_count": 8,
   "id": "ae6e557d-b49d-4926-870a-43b3f0031b45",
   "metadata": {},
   "outputs": [
    {
     "name": "stdout",
     "output_type": "stream",
     "text": [
      "타입: <class 'pandas.core.frame.DataFrame'>\n",
      "    name  kor  eng  mat\n",
      "학생1   둘리   90   99   90\n",
      "학생2   또치   80   98   70\n",
      "학생3  도우너   70   97   70\n",
      "학생4  희동이   70   46   60\n"
     ]
    }
   ],
   "source": [
    "# 7\n",
    "df2 = pd.DataFrame({\"name\": [\"둘리\", \"또치\", \"도우너\", \"희동이\"],\n",
    "                    \"kor\": [90, 80, 70, 70],\n",
    "                    \"eng\": [99, 98, 97, 46], \n",
    "                    \"mat\": [90, 70, 70, 60]},\n",
    "                  index=[\"학생1\", \"학생2\", \"학생3\", \"학생4\"])\n",
    "\n",
    "print(\"타입:\", type(df2))\n",
    "print(df2)"
   ]
  },
  {
   "cell_type": "code",
   "execution_count": 10,
   "id": "d4b8cc4a-0a9b-4041-a275-264dffe9a543",
   "metadata": {},
   "outputs": [
    {
     "name": "stdout",
     "output_type": "stream",
     "text": [
      "    dooly  doochi  dounar  heedong\n",
      "학생1    둘리      90      99       90\n",
      "학생2    또치      80      98       70\n",
      "학생3   도우너      70      97       70\n",
      "학생4   희동이      70      46       60\n"
     ]
    }
   ],
   "source": [
    "# 8\n",
    "df2.rename(columns={\"name\": \"dooly\",\n",
    "                    \"kor\": \"doochi\",\n",
    "                    \"eng\": \"dounar\", \n",
    "                    \"mat\": \"heedong\"}, inplace=True)\n",
    "print(df2)"
   ]
  },
  {
   "cell_type": "code",
   "execution_count": 15,
   "id": "253c60fa-aa01-481e-a111-bdbb664e2354",
   "metadata": {},
   "outputs": [
    {
     "name": "stdout",
     "output_type": "stream",
     "text": [
      "    dooly  doochi  dounar  heedong\n",
      "st1    둘리      90      99       90\n",
      "st2    또치      80      98       70\n",
      "st3   도우너      70      97       70\n",
      "st4   희동이      70      46       60\n"
     ]
    }
   ],
   "source": [
    "# 8 --> answer \n",
    "df2.rename(columns={\"name\": \"dooly\", \"kor\": \"doochi\", \"eng\": \"dounar\", \"mat\": \"heedong\"}, \n",
    "           index={\"학생1\": \"st1\", \"학생2\": \"st2\", \"학생3\": \"st3\", \"학생4\": \"st4\"},\n",
    "           inplace=True)\n",
    "print(df2)"
   ]
  },
  {
   "cell_type": "code",
   "execution_count": 16,
   "id": "422507c5-e569-4b16-81cc-f566231812cf",
   "metadata": {},
   "outputs": [],
   "source": [
    "# 9\n",
    "data = {\n",
    "    'name':['듀크1', '듀크2', '듀크3', '듀크4', '듀크5', '듀크6', '듀크7'],\n",
    "    'kor':[90, 80, 70, 70, 60, 70, 90],\n",
    "    'eng':[99, 98, 97, 46, 77, 56, 90],\n",
    "    'mat':[90, 70, 70, 60, 88, 99, 90],\n",
    "}\n",
    "\n",
    "df = pd.DataFrame(data)"
   ]
  },
  {
   "cell_type": "code",
   "execution_count": 17,
   "id": "a9b71a22-b941-41be-8944-ea4289fc6c9b",
   "metadata": {},
   "outputs": [
    {
     "name": "stdout",
     "output_type": "stream",
     "text": [
      "  name  kor  eng  mat\n",
      "0  듀크1   90   99   90\n",
      "1  듀크2   80   98   70\n",
      "2  듀크3   70   97   70\n",
      "3  듀크4   70   46   60\n",
      "4  듀크5   60   77   88\n",
      "  name  kor  eng  mat\n",
      "2  듀크3   70   97   70\n",
      "3  듀크4   70   46   60\n",
      "4  듀크5   60   77   88\n",
      "5  듀크6   70   56   99\n",
      "6  듀크7   90   90   90\n",
      "Index(['name', 'kor', 'eng', 'mat'], dtype='object')\n"
     ]
    }
   ],
   "source": [
    "# 9-1\n",
    "print(df.head(5))\n",
    "\n",
    "# 9-2\n",
    "print(df.tail(5))\n",
    "\n",
    "# 9-3\n",
    "print(df.columns)"
   ]
  },
  {
   "cell_type": "code",
   "execution_count": 21,
   "id": "6a8185cc-5ec7-49b6-ab54-b59cbb849e2c",
   "metadata": {},
   "outputs": [
    {
     "name": "stdout",
     "output_type": "stream",
     "text": [
      "  name  kor  eng  mat\n",
      "0  듀크1   90   99   90\n",
      "1  듀크2   80   98   70\n",
      "2  듀크3   70   97   70\n",
      "3  듀크4   70   46   60\n",
      "4  듀크5   60   77   88\n",
      "  name  kor  eng  mat\n",
      "2  듀크3   70   97   70\n",
      "3  듀크4   70   46   60\n",
      "4  듀크5   60   77   88\n",
      "5  듀크6   70   56   99\n",
      "6  듀크7   90   90   90\n"
     ]
    }
   ],
   "source": [
    "# answer\n",
    "# 9-1\n",
    "print(df[:5])\n",
    "\n",
    "# 9-2\n",
    "print(df[-5:])"
   ]
  },
  {
   "cell_type": "code",
   "execution_count": 12,
   "id": "f9abdf00-e6b5-40bd-8d54-c0d1f0bebe6b",
   "metadata": {},
   "outputs": [
    {
     "name": "stdout",
     "output_type": "stream",
     "text": [
      "0    듀크1\n",
      "1    듀크2\n",
      "2    듀크3\n",
      "3    듀크4\n",
      "4    듀크5\n",
      "5    듀크6\n",
      "6    듀크7\n",
      "Name: name, dtype: object\n",
      "0    99\n",
      "1    98\n",
      "2    97\n",
      "3    46\n",
      "4    77\n",
      "5    56\n",
      "6    90\n",
      "Name: eng, dtype: int64\n",
      "   kor  mat\n",
      "0   90   90\n",
      "1   80   70\n",
      "2   70   70\n",
      "3   70   60\n",
      "4   60   88\n",
      "5   70   99\n",
      "6   90   90\n"
     ]
    }
   ],
   "source": [
    "# 9-4\n",
    "print(df[\"name\"])\n",
    "\n",
    "# 9-5\n",
    "print(df.eng)\n",
    "\n",
    "# 9-6\n",
    "print(df[[\"kor\", \"mat\"]])"
   ]
  },
  {
   "cell_type": "code",
   "execution_count": 22,
   "id": "44a1e868-a3b8-4e15-adc0-f0bbe8009b4a",
   "metadata": {},
   "outputs": [
    {
     "name": "stdout",
     "output_type": "stream",
     "text": [
      "iloc 인덱서를 사용하여 네 번째 행을 출력한다\n",
      "name    듀크4\n",
      "kor      70\n",
      "eng      46\n",
      "mat      60\n",
      "Name: 3, dtype: object\n",
      "\n",
      "iloc 인덱서를 사용하여 첫 번째 행, 첫 번째 열을 출력한다\n",
      "듀크1\n",
      "\n",
      "iloc 인덱서를 사용하여 네 번째 행, 세 번째 열을 출력한다\n",
      "46\n",
      "\n",
      "iloc 인덱서를 사용하여 세 번째와 네 번째 행의 세 번째 열을 출력한다\n",
      "2    97\n",
      "3    46\n",
      "Name: eng, dtype: int64\n",
      "\n",
      "iloc 인덱서를 사용하여 세 번째와 네 번째 행의 세 번째와 네 번째열을 출력한다\n",
      "   eng  mat\n",
      "2   97   70\n",
      "3   46   60\n"
     ]
    }
   ],
   "source": [
    "# 9-7\n",
    "print(\"iloc 인덱서를 사용하여 네 번째 행을 출력한다\")\n",
    "print(df.iloc[3])\n",
    "\n",
    "# 9-8\n",
    "print(\"\\niloc 인덱서를 사용하여 첫 번째 행, 첫 번째 열을 출력한다\")\n",
    "print(df.iloc[0,0])\n",
    "\n",
    "# 9-9\n",
    "print(\"\\niloc 인덱서를 사용하여 네 번째 행, 세 번째 열을 출력한다\")\n",
    "print(df.iloc[3,2])\n",
    "\n",
    "# 9-10\n",
    "print(\"\\niloc 인덱서를 사용하여 세 번째와 네 번째 행의 세 번째 열을 출력한다\")\n",
    "print(df.iloc[2:4,2]) \n",
    "\n",
    "# 9-11\n",
    "print(\"\\niloc 인덱서를 사용하여 세 번째와 네 번째 행의 세 번째와 네 번째열을 출력한다\")\n",
    "print(df.iloc[2:4,2:4])"
   ]
  },
  {
   "cell_type": "code",
   "execution_count": 23,
   "id": "a739e7b1-45fd-4c64-98c0-55864b092d4c",
   "metadata": {},
   "outputs": [
    {
     "name": "stdout",
     "output_type": "stream",
     "text": [
      "\n",
      "loc 인덱서를 사용하여 네 번째 행을 출력한다\n",
      "name    듀크4\n",
      "kor      70\n",
      "eng      46\n",
      "mat      60\n",
      "Name: 3, dtype: object\n",
      "\n",
      "loc 인덱서를 사용하여 첫 번째 행, 첫 번째 열을 출력한다\n",
      "듀크1\n",
      "\n",
      "loc 인덱서를 사용하여 네 번째 행, 세 번째 열을 출력한다\n",
      "46\n",
      "\n",
      "loc 인덱서를 사용하여 세 번째와 네 번째 행의 세 번째 열을 출력한다\n",
      "2    97\n",
      "3    46\n",
      "Name: eng, dtype: int64\n",
      "\n",
      "loc 인덱서를 사용하여 세 번째와 네 번째 행의 세 번째와 네 번째열을 출력한다\n",
      "   eng  mat\n",
      "2   97   70\n",
      "3   46   60\n"
     ]
    }
   ],
   "source": [
    "# 9-12\n",
    "print(\"\\nloc 인덱서를 사용하여 네 번째 행을 출력한다\")\n",
    "print(df.loc[3])\n",
    "\n",
    "# 9-13\n",
    "print(\"\\nloc 인덱서를 사용하여 첫 번째 행, 첫 번째 열을 출력한다\")\n",
    "print(df.loc[0,\"name\"])\n",
    "\n",
    "# 9-14\n",
    "print(\"\\nloc 인덱서를 사용하여 네 번째 행, 세 번째 열을 출력한다\")\n",
    "print(df.loc[3,\"eng\"])\n",
    "\n",
    "# 9-15\n",
    "print(\"\\nloc 인덱서를 사용하여 세 번째와 네 번째 행의 세 번째 열을 출력한다\")\n",
    "print(df.loc[2:3,\"eng\"])\n",
    "\n",
    "# 9-16\n",
    "print(\"\\nloc 인덱서를 사용하여 세 번째와 네 번째 행의 세 번째와 네 번째열을 출력한다\")\n",
    "print(df.loc[2:3,\"eng\":\"mat\"])"
   ]
  },
  {
   "cell_type": "code",
   "execution_count": 14,
   "id": "275e037d-f0b8-47c8-bc75-d31a13068e16",
   "metadata": {},
   "outputs": [
    {
     "name": "stdout",
     "output_type": "stream",
     "text": [
      "      kor  eng  mat\n",
      "name               \n",
      "듀크1    90   99   90\n",
      "듀크2    80   98   70\n",
      "듀크3    70   97   70\n",
      "듀크4    70   46   60\n",
      "듀크5    60   77   88\n",
      "듀크6    70   56   99\n",
      "듀크7    90   90   90\n"
     ]
    }
   ],
   "source": [
    "# 10\n",
    "df.set_index(\"name\", inplace=True)\n",
    "print(df)"
   ]
  }
 ],
 "metadata": {
  "kernelspec": {
   "display_name": "eduvenv",
   "language": "python",
   "name": "eduvenv"
  },
  "language_info": {
   "codemirror_mode": {
    "name": "ipython",
    "version": 3
   },
   "file_extension": ".py",
   "mimetype": "text/x-python",
   "name": "python",
   "nbconvert_exporter": "python",
   "pygments_lexer": "ipython3",
   "version": "3.9.12"
  }
 },
 "nbformat": 4,
 "nbformat_minor": 5
}
