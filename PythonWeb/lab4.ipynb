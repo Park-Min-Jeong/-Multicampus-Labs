{
 "cells": [
  {
   "cell_type": "code",
   "execution_count": 1,
   "id": "ff023194-3252-42a5-ab80-89740fb1ec5c",
   "metadata": {},
   "outputs": [
    {
     "name": "stdout",
     "output_type": "stream",
     "text": [
      "WebDriver 객체 :  <class 'selenium.webdriver.chrome.webdriver.WebDriver'>\n"
     ]
    }
   ],
   "source": [
    "from selenium import webdriver\n",
    "from selenium.webdriver.common.keys import Keys \n",
    "from selenium.webdriver.common.by import By\n",
    "from selenium.webdriver.chrome.service import Service\n",
    "\n",
    "driver = webdriver.Chrome(service=Service(\"./temp/chromedriver\"))\n",
    "# driver = webdriver.Chrome(service=Service('C:/Temp/chromedriver')) \n",
    "print(\"WebDriver 객체 : \", type(driver))"
   ]
  },
  {
   "cell_type": "code",
   "execution_count": 2,
   "id": "30d90544-00c7-48e6-b66a-09fda564921d",
   "metadata": {},
   "outputs": [],
   "source": [
    "# css selector\n",
    "driver.get(\"https://www.naver.com/\")\n",
    "\n",
    "target = driver.find_element(by=By.CSS_SELECTOR, value=\"[name='query']\")\n",
    "target.send_keys(\"파이썬\")\n",
    "target.send_keys(Keys.ENTER)"
   ]
  },
  {
   "cell_type": "code",
   "execution_count": 3,
   "id": "c97877f8-6bc8-48c0-abdb-7c1aeabc966a",
   "metadata": {},
   "outputs": [],
   "source": [
    "# id attribute\n",
    "driver.get(\"https://www.naver.com/\")\n",
    "\n",
    "target = driver.find_element(by=By.ID, value=\"query\")\n",
    "target.send_keys(\"파이썬\")\n",
    "target.send_keys(Keys.ENTER)"
   ]
  },
  {
   "cell_type": "code",
   "execution_count": 4,
   "id": "69a96745-749f-418a-9df6-dc552769028c",
   "metadata": {},
   "outputs": [],
   "source": [
    "# class attribute\n",
    "driver.get(\"https://www.naver.com/\")\n",
    "\n",
    "target = driver.find_element(by=By.CLASS_NAME, value=\"input_text\")\n",
    "target.send_keys(\"파이썬\")\n",
    "target.send_keys(Keys.ENTER)"
   ]
  },
  {
   "cell_type": "code",
   "execution_count": 5,
   "id": "40ea982a-8eea-46e7-a24e-cc315220c678",
   "metadata": {},
   "outputs": [],
   "source": [
    "driver.quit()"
   ]
  },
  {
   "cell_type": "code",
   "execution_count": 5,
   "id": "2c3f3e5a-9957-4aa0-be32-f17aa9580e77",
   "metadata": {},
   "outputs": [
    {
     "data": {
      "text/plain": [
       "'\\n<input \\n    id=\"query\" \\n    name=\"query\" \\n    type=\"text\" \\n    title=\"검색어 입력\" \\n    maxlength=\"255\" \\n    class=\"input_text\" \\n    tabindex=\"1\" \\n    accesskey=\"s\" \\n    style=\"ime-mode:active;\" \\n    autocomplete=\"off\" \\n    placeholder=\"검색어를 입력해 주세요.\" \\n    onclick=\"document.getElementById(\\'fbm\\').value=1;\" \\n    value=\"\" \\n    data-atcmp-element=\"\"\\n>\\n'"
      ]
     },
     "execution_count": 5,
     "metadata": {},
     "output_type": "execute_result"
    }
   ],
   "source": [
    "\"\"\"\n",
    "<input \n",
    "    id=\"query\" \n",
    "    name=\"query\" \n",
    "    type=\"text\" \n",
    "    title=\"검색어 입력\" \n",
    "    maxlength=\"255\" \n",
    "    class=\"input_text\" \n",
    "    tabindex=\"1\" \n",
    "    accesskey=\"s\" \n",
    "    style=\"ime-mode:active;\" \n",
    "    autocomplete=\"off\" \n",
    "    placeholder=\"검색어를 입력해 주세요.\" \n",
    "    onclick=\"document.getElementById('fbm').value=1;\" \n",
    "    value=\"\" \n",
    "    data-atcmp-element=\"\"\n",
    ">\n",
    "\"\"\""
   ]
  },
  {
   "cell_type": "code",
   "execution_count": null,
   "id": "b6cfea42-49ee-49ab-82f2-ddb23f3d6fb4",
   "metadata": {},
   "outputs": [],
   "source": []
  }
 ],
 "metadata": {
  "kernelspec": {
   "display_name": "eduvenv",
   "language": "python",
   "name": "eduvenv"
  },
  "language_info": {
   "codemirror_mode": {
    "name": "ipython",
    "version": 3
   },
   "file_extension": ".py",
   "mimetype": "text/x-python",
   "name": "python",
   "nbconvert_exporter": "python",
   "pygments_lexer": "ipython3",
   "version": "3.9.12"
  }
 },
 "nbformat": 4,
 "nbformat_minor": 5
}
