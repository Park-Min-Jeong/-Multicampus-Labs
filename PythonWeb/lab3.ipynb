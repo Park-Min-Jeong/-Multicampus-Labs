{
 "cells": [
  {
   "cell_type": "code",
   "execution_count": 28,
   "id": "164d5dd2-2ca6-43bd-a0fd-8158271be21d",
   "metadata": {},
   "outputs": [],
   "source": [
    "from bs4 import BeautifulSoup\n",
    "import requests\n",
    "\n",
    "url = \"https://news.daum.net/\""
   ]
  },
  {
   "cell_type": "code",
   "execution_count": 29,
   "id": "ad323bd9-1183-4cff-819a-928db4c18bd3",
   "metadata": {},
   "outputs": [],
   "source": [
    "req = requests.get(url)\n",
    "html = req.content\n",
    "bs = BeautifulSoup(html, \"html.parser\")"
   ]
  },
  {
   "cell_type": "code",
   "execution_count": 30,
   "id": "5fdc15ed-4fb1-47a1-9f38-acb29cdfe1d3",
   "metadata": {},
   "outputs": [],
   "source": [
    "title = list()\n",
    "category = list()\n",
    "\n",
    "for news in bs.find_all(class_=\"item_issue\"):\n",
    "    title.append(news.find(class_=\"link_txt\").text.strip())\n",
    "    category.append(news.find(class_=\"txt_category\").text)"
   ]
  },
  {
   "cell_type": "code",
   "execution_count": 31,
   "id": "0e0818ab-4a93-468e-81b2-849ec3ee40d6",
   "metadata": {},
   "outputs": [
    {
     "name": "stdout",
     "output_type": "stream",
     "text": [
      "-- 뉴스 제목 --\n",
      "['코로나 2회 감염자 치명률, 1회 감염자보다 낮아', \"고팍스, 가상화폐 예치 서비스 출금 지연‥'FTX 사태 불똥'\", '[과학을읽다]\"50년 전 달에 갔다면서 웬 호들갑\"이냐구?', '한미·한일 북핵대표 통화…北 미사일발사 재개 강력 규탄', \"방통위 두달만의 압수수색에 긴장 고조…수사 진전여부 '촉각'\", '[수능 수학영역] \"작년만큼 어려웠다\"… 최상위권 변별력은 떨어질 듯', '\"北, 해킹 한번에 8300억 원 탈취\"···상반기 탄도미사일 도발 비용 벌어', '허은아 \"팔짱 원조는 고민정·김정숙...지금은 불편\"', '“LA서 피습당한 한인 승무원, 의사소통 가능”…외교부, 경찰 조사 요청', \"[기자가 직접 풀었다] 수능 국어 난이도 '불수능'은 면했다\", \"호주 제외 아증시 일제 하락, 항셍 2% 급락 '최대 낙폭'\", '삼촌 죽이고 대통령 된 적도기니 독재자, 43년 통치하고 또 출마', '감기약 대란 우려에...복지부 \"도매상·약국 매점매석 단속\"', '숙부·사촌 제거 후 \"미스터 에브리씽\"…빈 살만 권력의 비밀 셋', '[단독] ‘사과박스 200개’ 전달 의혹 서울 은평구청장 비서실 직원 구속', \"[단독] 김의겸, '한동훈 유튜브' 예산 전액 삭감 요구했다\", '롯데케미칼 M&A 필요자금…주주에 손 벌리나', '尹 한남동 관저 첫 손님은 빈 살만…“에너지·방산·인프라 협력”', \"[날씨] 저녁 차츰 쌀쌀해져‥경기 남부·충북 미세먼지 오전 '나쁨'\", \"[용산M부스] MBC 기자들의 '민항기' 취재기 - 시험대 오른 대통령의 언론관\"]\n",
      "-- 뉴스 카테고리 --\n",
      "['문화', '경제', 'IT', '정치', '정치', '사회', '정치', '정치', '사회', '사회', '국제', '국제', '경제', '국제', '사회', '정치', '경제', '정치', '문화', '속보']\n"
     ]
    }
   ],
   "source": [
    "print(\"-- 뉴스 제목 --\")\n",
    "print(title)\n",
    "print(\"-- 뉴스 카테고리 --\")\n",
    "print(category)"
   ]
  },
  {
   "cell_type": "code",
   "execution_count": null,
   "id": "6f8be324-0b4c-4701-82d6-dc70443941ee",
   "metadata": {},
   "outputs": [],
   "source": []
  }
 ],
 "metadata": {
  "kernelspec": {
   "display_name": "eduvenv",
   "language": "python",
   "name": "eduvenv"
  },
  "language_info": {
   "codemirror_mode": {
    "name": "ipython",
    "version": 3
   },
   "file_extension": ".py",
   "mimetype": "text/x-python",
   "name": "python",
   "nbconvert_exporter": "python",
   "pygments_lexer": "ipython3",
   "version": "3.9.12"
  }
 },
 "nbformat": 4,
 "nbformat_minor": 5
}
