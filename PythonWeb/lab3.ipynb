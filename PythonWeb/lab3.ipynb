{
 "cells": [
  {
   "cell_type": "code",
   "execution_count": 53,
   "id": "164d5dd2-2ca6-43bd-a0fd-8158271be21d",
   "metadata": {},
   "outputs": [],
   "source": [
    "from bs4 import BeautifulSoup\n",
    "import requests\n",
    "\n",
    "url = \"https://news.daum.net/\"\n",
    "\n",
    "req = requests.get(url)\n",
    "html = req.content # UTF-8 decoding X\n",
    "bs = BeautifulSoup(html, \"html.parser\")"
   ]
  },
  {
   "cell_type": "code",
   "execution_count": 54,
   "id": "5fdc15ed-4fb1-47a1-9f38-acb29cdfe1d3",
   "metadata": {},
   "outputs": [],
   "source": [
    "title = list()\n",
    "category = list()\n",
    "\n",
    "for news in bs.find_all(class_=\"item_issue\"):\n",
    "    title.append(news.find(class_=\"link_txt\").text.strip())\n",
    "    category.append(news.find(class_=\"txt_category\").text)"
   ]
  },
  {
   "cell_type": "code",
   "execution_count": 55,
   "id": "0e0818ab-4a93-468e-81b2-849ec3ee40d6",
   "metadata": {},
   "outputs": [
    {
     "name": "stdout",
     "output_type": "stream",
     "text": [
      "-- 뉴스 제목 --\n",
      "['내일도 아침엔 춥고 낮엔 포근…일교차 15도 이상', '\"유럽 미술사 1년 넘게 연구했죠…전시회 본 빈미술관장도 \\'엄지척\\'\"', '구·군 점심시간 휴무···홍준표 \"잘못된 조치\"', '\"한철만 입고 버리지 뭐\"…동남아 뒤덮은 한국 옷 \\'쓰레기 산\\'', '의롭고 이롭다, 친환경 패션', \"'40조' 투자 보따리 푼 빈 살만..韓·사우디 26건 계약·MOU 체결\", '빅스텝 예상했던 BNP파리바 \"한은 , 이달 만장일치로 0.25%p 올릴 것\"', '\"서방 부품 대거 포함\"… 美매체, 이란 제작 드론 제재에 의문', '전문가 \"탈북민 1인가구 비율 30% 증가…지원 체계 강화해야\"', '日, 방위비 증액 위해 법인세 증세 등 제언…\"국민 부담 필요\"', '[르포]\"괜히 알면 신경쓰니까...\"연차내고 몰래 수험장 지키는 학부모들', '민생행보 이어간 이재명, \"안전 위해 비용·이윤 양보해야\"', '러, 키이우·오데사·르비우 등 우크라 전역에 미사일 공습 재개(상보)', '오등봉공원 민간특례사업 토지 강제수용', '\"군사 대응 맹렬해질 것\" 담화 직후…북, 8일 만의 도발', '‘콘크리트 바닥’ 맴도는 尹대통령 지지율, 돌파구는 어디에', '카카오 서비스 장애 피해 보상 정책 어떻게?… 협의체에 쏠리는 눈', '유동규, 유한기 유족에 \"자기들만 \\'무사안일\\' 법정서 최선 다해 밝힐 것\"', '尹, 빈 살만 사우디 왕세자와 \\'전략파트너십 위원회\\'신설…\"관계 도약 적기\"', '\"저소득층 장학금 주면 감점이라니\"‥예일·하버드, 로스쿨 평가 거부']\n",
      "-- 뉴스 카테고리 --\n",
      "['문화', '문화', '사회', '경제', '경제', '경제', '경제', '국제', '정치', '국제', '사회', '정치', '국제', '정치', '사회', '정치', 'IT', '사회', '정치', '국제']\n"
     ]
    }
   ],
   "source": [
    "print(\"-- 뉴스 제목 --\")\n",
    "print(title)\n",
    "print(\"-- 뉴스 카테고리 --\")\n",
    "print(category)"
   ]
  },
  {
   "cell_type": "code",
   "execution_count": null,
   "id": "b5302d2a-0e8b-4207-8816-e788e371154f",
   "metadata": {},
   "outputs": [],
   "source": []
  }
 ],
 "metadata": {
  "kernelspec": {
   "display_name": "eduvenv",
   "language": "python",
   "name": "eduvenv"
  },
  "language_info": {
   "codemirror_mode": {
    "name": "ipython",
    "version": 3
   },
   "file_extension": ".py",
   "mimetype": "text/x-python",
   "name": "python",
   "nbconvert_exporter": "python",
   "pygments_lexer": "ipython3",
   "version": "3.9.12"
  }
 },
 "nbformat": 4,
 "nbformat_minor": 5
}
