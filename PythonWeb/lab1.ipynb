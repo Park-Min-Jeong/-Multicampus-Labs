{
 "cells": [
  {
   "cell_type": "code",
   "execution_count": 11,
   "id": "d8022c52-3414-4c39-bc5e-13bc9e7a0521",
   "metadata": {},
   "outputs": [],
   "source": [
    "import urllib\n",
    "import requests"
   ]
  },
  {
   "cell_type": "code",
   "execution_count": 12,
   "id": "1308891b-1d6b-44d2-8a5e-b9d4216b6b7f",
   "metadata": {},
   "outputs": [],
   "source": [
    "API = \"http://unico2013.dothome.co.kr/crawling/exercise.php\""
   ]
  },
  {
   "cell_type": "code",
   "execution_count": 13,
   "id": "5e4ca494-8447-4608-9575-82f1ab81fd00",
   "metadata": {},
   "outputs": [
    {
     "name": "stdout",
     "output_type": "stream",
     "text": [
      "﻿<!DOCTYPE html>\n",
      "<html>  \n",
      "  <head>    \n",
      "   <meta charset=\"utf-8\">    \n",
      "   <title>TEST</title>  \n",
      "  </head>  \n",
      "  <body>   \n",
      "    <h1 style='color : red'>카테고리 : 역사</h1>\n",
      "    <h2 style='color : blue'>페이지 : 25</h2>   \n",
      "  </body>\n",
      "</html>\n"
     ]
    }
   ],
   "source": [
    "params = urllib.parse.urlencode({\"category\":\"역사\", \"page\":25})\n",
    "\n",
    "url = API + \"?\" + params\n",
    "\n",
    "with urllib.request.urlopen(url) as f:\n",
    "    print(f.read().decode('utf-8'))"
   ]
  },
  {
   "cell_type": "code",
   "execution_count": 14,
   "id": "493d4b00-2e3b-4cd8-88e9-f2201ac2ef4d",
   "metadata": {},
   "outputs": [
    {
     "name": "stdout",
     "output_type": "stream",
     "text": [
      "﻿<!DOCTYPE html>\n",
      "<html>  \n",
      "  <head>    \n",
      "   <meta charset=\"utf-8\">    \n",
      "   <title>TEST</title>  \n",
      "  </head>  \n",
      "  <body>   \n",
      "    <h1 style='color : red'>카테고리 : 여행</h1>\n",
      "    <h2 style='color : blue'>페이지 : 10</h2>   \n",
      "  </body>\n",
      "</html>\n"
     ]
    }
   ],
   "source": [
    "params = {\"category\":\"여행\", \"page\":10}\n",
    "\n",
    "r = requests.get(API, params=params)\n",
    "\n",
    "r.encoding = \"utf-8\"\n",
    "\n",
    "if r.text:\n",
    "    print(r.text)\n",
    "else:\n",
    "    print(\"no requested contents\")"
   ]
  },
  {
   "cell_type": "code",
   "execution_count": null,
   "id": "608a07b2-73ff-4e47-9b44-484f5929e3ee",
   "metadata": {},
   "outputs": [],
   "source": []
  }
 ],
 "metadata": {
  "kernelspec": {
   "display_name": "eduvenv",
   "language": "python",
   "name": "eduvenv"
  },
  "language_info": {
   "codemirror_mode": {
    "name": "ipython",
    "version": 3
   },
   "file_extension": ".py",
   "mimetype": "text/x-python",
   "name": "python",
   "nbconvert_exporter": "python",
   "pygments_lexer": "ipython3",
   "version": "3.9.12"
  }
 },
 "nbformat": 4,
 "nbformat_minor": 5
}
