{
 "cells": [
  {
   "cell_type": "code",
   "execution_count": 1,
   "id": "da8d2f6c-d90a-45ba-a9b2-aad9fa81d1b8",
   "metadata": {},
   "outputs": [],
   "source": [
    "import pandas as pd"
   ]
  },
  {
   "cell_type": "code",
   "execution_count": 2,
   "id": "f1c4df01-b7eb-4657-90c4-7413928b4885",
   "metadata": {},
   "outputs": [
    {
     "name": "stdout",
     "output_type": "stream",
     "text": [
      "  name  kor  eng  mat class\n",
      "0   둘리   90   99   90    1반\n",
      "1   또치   80   98   70    2반\n",
      "2  도우너   70   97   70    1반\n",
      "3  희동이   70   46   60    2반\n"
     ]
    }
   ],
   "source": [
    "# 1\n",
    "data = {\n",
    "    'name': ['둘리', '또치', '도우너', '희동이'],\n",
    "    'kor': [90, 80, 70, 70],\n",
    "    'eng': [99, 98, 97, 46],\n",
    "    'mat': [90, 70, 70, 60],\n",
    "}\n",
    "df = pd.DataFrame(data)\n",
    "\n",
    "df[\"class\"] = [\"1반\", \"2반\", \"1반\", \"2반\"]\n",
    "print(df)"
   ]
  },
  {
   "cell_type": "code",
   "execution_count": 3,
   "id": "57a332b1-80c6-4efb-8c1b-b3e4ff2914ad",
   "metadata": {},
   "outputs": [
    {
     "name": "stdout",
     "output_type": "stream",
     "text": [
      "  name  kor  eng  mat class\n",
      "0   둘리   90   99   90    1반\n",
      "1   또치   80   98   70    2반\n",
      "2  도우너   70   97   70    1반\n",
      "3  희동이   70   46   60    2반\n",
      "4  마이콜   80   80   80    1반\n"
     ]
    }
   ],
   "source": [
    "# 2\n",
    "df.loc[4] = [\"마이콜\", 80, 80, 80, \"1반\"]\n",
    "print(df)"
   ]
  },
  {
   "cell_type": "code",
   "execution_count": 4,
   "id": "74966881-d2e1-406e-86eb-f17cd3849c00",
   "metadata": {},
   "outputs": [],
   "source": [
    "dfCopy = df.copy()"
   ]
  },
  {
   "cell_type": "code",
   "execution_count": 5,
   "id": "dfae7cad-62be-4b02-bea8-5bb7e7b92d13",
   "metadata": {},
   "outputs": [
    {
     "name": "stdout",
     "output_type": "stream",
     "text": [
      "      국어  영어  수학 반번호\n",
      "name                \n",
      "둘리    90  99  90  1반\n",
      "또치    80  98  70  2반\n",
      "도우너   70  97  70  1반\n",
      "희동이   70  46  60  2반\n",
      "마이콜   80  80  80  1반\n"
     ]
    }
   ],
   "source": [
    "# 3\n",
    "df.set_index(\"name\", inplace=True)\n",
    "df.rename(columns={\"kor\":\"국어\", \"eng\":\"영어\", \"mat\":\"수학\", \"class\":\"반번호\"}, inplace=True)\n",
    "print(df)"
   ]
  },
  {
   "cell_type": "code",
   "execution_count": 6,
   "id": "8f657602-0e97-4d8d-bda9-d58caead0c6c",
   "metadata": {},
   "outputs": [
    {
     "name": "stdout",
     "output_type": "stream",
     "text": [
      "      국어  영어  수학 반번호\n",
      "name                \n",
      "둘리    90  99  90  1반\n",
      "또치    80  98  70  2반\n",
      "도우너   70  97  70  1반\n",
      "희동이   70  46  60  2반\n",
      "마이콜   80  80  80  1반\n"
     ]
    }
   ],
   "source": [
    "# 3 answer\n",
    "dfCopy.set_index(\"name\", inplace=True)\n",
    "dfCopy.columns = [\"국어\", \"영어\", \"수학\", \"반번호\"]\n",
    "print(dfCopy)"
   ]
  },
  {
   "cell_type": "code",
   "execution_count": 7,
   "id": "4ae128c8-5d3c-488e-beef-1e2e93003c89",
   "metadata": {},
   "outputs": [
    {
     "name": "stdout",
     "output_type": "stream",
     "text": [
      "       국어   영어   수학 반번호\n",
      "name                   \n",
      "둘리     90   99   90  1반\n",
      "또치     80   98   70  2반\n",
      "도우너    70   97   70  1반\n",
      "희동이    70   90   60  2반\n",
      "마이콜   100  100  100  1반\n"
     ]
    }
   ],
   "source": [
    "# 4\n",
    "df.loc[\"마이콜\",\"국어\":\"수학\"] = 100\n",
    "df.loc[\"희동이\",\"영어\"] = 90\n",
    "print(df)"
   ]
  },
  {
   "cell_type": "code",
   "execution_count": 8,
   "id": "9c1fd146-8ea2-42ae-90d5-070741aab9f2",
   "metadata": {},
   "outputs": [
    {
     "name": "stdout",
     "output_type": "stream",
     "text": [
      "       국어   영어   수학 반번호\n",
      "name                   \n",
      "둘리     90   99   90  1반\n",
      "또치     80   98   70  2반\n",
      "도우너    70   97   70  1반\n",
      "희동이    70   90   60  2반\n",
      "마이콜   100  100  100  1반\n"
     ]
    }
   ],
   "source": [
    "# 4 answer\n",
    "dfCopy.loc[\"마이콜\", \"국어\":\"수학\"] = 100\n",
    "dfCopy.iloc[3,1] = 90\n",
    "print(dfCopy)"
   ]
  },
  {
   "cell_type": "code",
   "execution_count": 9,
   "id": "67a5f359-002b-436e-9a0c-d1314320bc88",
   "metadata": {},
   "outputs": [
    {
     "data": {
      "text/plain": [
       "'name'"
      ]
     },
     "execution_count": 9,
     "metadata": {},
     "output_type": "execute_result"
    }
   ],
   "source": [
    "dfCopy.index.name"
   ]
  },
  {
   "cell_type": "code",
   "execution_count": 10,
   "id": "22688ef7-8fde-44ef-aa74-c185f94919e6",
   "metadata": {},
   "outputs": [
    {
     "name": "stdout",
     "output_type": "stream",
     "text": [
      "  name   국어   영어   수학 반번호\n",
      "0   둘리   90   99   90  1반\n",
      "1   또치   80   98   70  2반\n",
      "2  도우너   70   97   70  1반\n",
      "3  희동이   70   90   60  2반\n",
      "4  마이콜  100  100  100  1반\n",
      "==============================\n",
      "    성명   국어   영어   수학 반번호\n",
      "0   둘리   90   99   90  1반\n",
      "1   또치   80   98   70  2반\n",
      "2  도우너   70   97   70  1반\n",
      "3  희동이   70   90   60  2반\n",
      "4  마이콜  100  100  100  1반\n"
     ]
    }
   ],
   "source": [
    "# 5\n",
    "df.reset_index(inplace=True)\n",
    "print(df)\n",
    "\n",
    "print(\"=\"*30)\n",
    "\n",
    "df.rename(columns={\"name\":\"성명\"}, inplace=True)\n",
    "print(df)"
   ]
  },
  {
   "cell_type": "code",
   "execution_count": 11,
   "id": "6f88d954-324a-419b-8285-54607a49888d",
   "metadata": {},
   "outputs": [
    {
     "name": "stdout",
     "output_type": "stream",
     "text": [
      "    성명   국어   영어   수학 반번호\n",
      "4  마이콜  100  100  100  1반\n",
      "0   둘리   90   99   90  1반\n",
      "1   또치   80   98   70  2반\n",
      "2  도우너   70   97   70  1반\n",
      "3  희동이   70   90   60  2반\n",
      "==============================\n",
      "    성명   국어   영어   수학 반번호\n",
      "3  희동이   70   90   60  2반\n",
      "2  도우너   70   97   70  1반\n",
      "1   또치   80   98   70  2반\n",
      "0   둘리   90   99   90  1반\n",
      "4  마이콜  100  100  100  1반\n"
     ]
    }
   ],
   "source": [
    "# 6\n",
    "df1 = df.sort_values(\"국어\", ascending=False)\n",
    "print(df1)\n",
    "\n",
    "print(\"=\"*30)\n",
    "\n",
    "df2 = df.sort_values(\"영어\", ascending=True)\n",
    "print(df2)"
   ]
  },
  {
   "cell_type": "code",
   "execution_count": 12,
   "id": "92365249-e3a3-4333-9978-2faf3e63ce99",
   "metadata": {},
   "outputs": [
    {
     "name": "stdout",
     "output_type": "stream",
     "text": [
      "    성명   국어   영어   수학 반번호   총점\n",
      "4  마이콜  100  100  100  1반  300\n",
      "0   둘리   90   99   90  1반  279\n",
      "1   또치   80   98   70  2반  248\n",
      "2  도우너   70   97   70  1반  237\n",
      "3  희동이   70   90   60  2반  220\n"
     ]
    }
   ],
   "source": [
    "# 7\n",
    "df[\"총점\"] = df[\"국어\"] + df[\"영어\"] + df[\"수학\"]\n",
    "df.sort_values(\"총점\", inplace=True, ascending=False)\n",
    "print(df)"
   ]
  },
  {
   "cell_type": "code",
   "execution_count": 14,
   "id": "16bac437-fb1e-432f-b1f4-35c40f3c1fc6",
   "metadata": {},
   "outputs": [
    {
     "name": "stdout",
     "output_type": "stream",
     "text": [
      "    성명   국어   영어   수학 반번호   총점\n",
      "4  마이콜  100  100  100  1반  300\n",
      "0   둘리   90   99   90  1반  279\n",
      "1   또치   80   98   70  2반  248\n",
      "2  도우너   70   97   70  1반  237\n",
      "3  희동이   70   90   60  2반  220\n"
     ]
    }
   ],
   "source": [
    "# 7 answer\n",
    "dfCopy = df.copy()\n",
    "dfCopy[\"총점\"] = df.국어 + df.영어 + df.수학\n",
    "dfCopy.sort_values(by=\"총점\", ascending=False, inplace=True)\n",
    "print(dfCopy)"
   ]
  },
  {
   "cell_type": "code",
   "execution_count": 15,
   "id": "da1670ac-fa27-4d41-a249-bae09e50c3b8",
   "metadata": {},
   "outputs": [
    {
     "name": "stdout",
     "output_type": "stream",
     "text": [
      "    성명   국어   영어   수학   총점\n",
      "4  마이콜  100  100  100  300\n",
      "0   둘리   90   99   90  279\n",
      "1   또치   80   98   70  248\n",
      "2  도우너   70   97   70  237\n",
      "3  희동이   70   90   60  220\n",
      "==============================\n",
      "    성명   국어   영어   수학 반번호   총점\n",
      "4  마이콜  100  100  100  1반  300\n",
      "0   둘리   90   99   90  1반  279\n",
      "1   또치   80   98   70  2반  248\n",
      "2  도우너   70   97   70  1반  237\n",
      "3  희동이   70   90   60  2반  220\n"
     ]
    }
   ],
   "source": [
    "# 8\n",
    "df3 = df.drop(\"반번호\", axis=1)\n",
    "print(df3)\n",
    "\n",
    "print(\"=\"*30)\n",
    "\n",
    "print(df)"
   ]
  },
  {
   "cell_type": "code",
   "execution_count": 16,
   "id": "ccbc278f-9e05-4ea0-a039-c9a17f9bcfca",
   "metadata": {},
   "outputs": [
    {
     "name": "stdout",
     "output_type": "stream",
     "text": [
      "    성명  국어  영어  수학 반번호   총점\n",
      "0   둘리  90  99  90  1반  279\n",
      "1   또치  80  98  70  2반  248\n",
      "2  도우너  70  97  70  1반  237\n",
      "3  희동이  70  90  60  2반  220\n",
      "==============================\n",
      "    성명   국어   영어   수학 반번호   총점\n",
      "4  마이콜  100  100  100  1반  300\n",
      "0   둘리   90   99   90  1반  279\n",
      "1   또치   80   98   70  2반  248\n",
      "2  도우너   70   97   70  1반  237\n",
      "3  희동이   70   90   60  2반  220\n"
     ]
    }
   ],
   "source": [
    "# 9\n",
    "df4 = df.drop(4, axis=0)\n",
    "\n",
    "print(df4)\n",
    "\n",
    "print(\"=\"*30)\n",
    "\n",
    "print(df)"
   ]
  },
  {
   "cell_type": "code",
   "execution_count": 17,
   "id": "2bb534bd-92eb-4312-8264-919dc94a0a59",
   "metadata": {},
   "outputs": [
    {
     "name": "stdout",
     "output_type": "stream",
     "text": [
      "eng      NaN\n",
      "kor    270.0\n",
      "mat      NaN\n",
      "dtype: float64\n",
      "==============================\n",
      "eng    140.0\n",
      "kor    270.0\n",
      "mat    160.0\n",
      "dtype: float64\n"
     ]
    }
   ],
   "source": [
    "# 10\n",
    "data1 = {'kor':90, 'mat':80}\n",
    "data2 = {'kor':90, 'eng':70}\n",
    "data3 = {'kor':90, 'eng':70, 'mat':80}\n",
    "series1 = pd.Series(data1)\n",
    "series2 = pd.Series(data2)\n",
    "series3 = pd.Series(data3)\n",
    "result = series1 + series2 + series3\n",
    "print(result)\n",
    "\n",
    "print(\"=\"*30)\n",
    "\n",
    "# data1에는 eng값이 주어지지 않았고, data2에는 mat값이 주어지지 않음\n",
    "# 주어지지 않은 값은 NaN으로 처리됨\n",
    "# 연산할 때 NaN이 있으면 결과는 NaN임\n",
    "\n",
    "result = series1.add(series2, fill_value=0).add(series3, fill_value=0)\n",
    "print(result)"
   ]
  },
  {
   "cell_type": "code",
   "execution_count": 18,
   "id": "e982f138-d1a6-4f2e-bcd0-aa09c2cec25e",
   "metadata": {},
   "outputs": [
    {
     "name": "stdout",
     "output_type": "stream",
     "text": [
      "     X1   X2    X3  X4\n",
      "Y1  2.9  9.2  13.2   2\n",
      "Y2  2.4  8.7  11.5   3\n",
      "Y3  2.0  7.2  10.8   4\n",
      "Y4  2.3  8.5  12.3   3\n",
      "Y5  3.2  9.6  12.6   2\n"
     ]
    }
   ],
   "source": [
    "# 11\n",
    "data = {\n",
    "    'X1':[2.9, 2.4, 2, 2.3, 3.2],\n",
    "    'X2':[9.2, 8.7, 7.2, 8.5, 9.6],\n",
    "    'X3':[13.2, 11.5, 10.8, 12.3, 12.6],\n",
    "    'X4':[2, 3, 4, 3, 2]\n",
    "} \n",
    "df = pd.DataFrame(data, index=['Y1','Y2','Y3','Y4','Y5'])\n",
    "print(df)"
   ]
  },
  {
   "cell_type": "code",
   "execution_count": 19,
   "id": "23c21db0-6ae3-49c4-be4d-119e157e7d1d",
   "metadata": {},
   "outputs": [],
   "source": [
    "dfCopy = df.copy()"
   ]
  },
  {
   "cell_type": "code",
   "execution_count": 22,
   "id": "f88852a2-9310-4631-88da-8c2317993ead",
   "metadata": {},
   "outputs": [
    {
     "name": "stdout",
     "output_type": "stream",
     "text": [
      "      X1    X2    X3  X4\n",
      "Y1   2.9   9.2  13.2   2\n",
      "Y2   2.4   8.7  11.5   3\n",
      "Y3   2.0   7.2  10.8   4\n",
      "Y4   2.3   8.5  12.3   3\n",
      "Y5   3.2   9.6  12.6   2\n",
      "Y6  10.0  20.0  30.0  40\n"
     ]
    }
   ],
   "source": [
    "df.loc[\"Y6\"] = [10, 20, 30, 40]\n",
    "print(df)"
   ]
  },
  {
   "cell_type": "code",
   "execution_count": 23,
   "id": "6bb29118-4e9d-476b-b91a-0d12a86388d4",
   "metadata": {},
   "outputs": [
    {
     "name": "stdout",
     "output_type": "stream",
     "text": [
      "      X1    X2    X3  X4\n",
      "Y1  12.9  19.2  23.2  12\n",
      "Y2  12.4  18.7  21.5  13\n",
      "Y3  12.0  17.2  20.8  14\n",
      "Y4  12.3  18.5  22.3  13\n",
      "Y5  13.2  19.6  22.6  12\n",
      "Y6  20.0  30.0  40.0  50\n"
     ]
    }
   ],
   "source": [
    "df = df + 10\n",
    "print(df)"
   ]
  },
  {
   "cell_type": "code",
   "execution_count": 24,
   "id": "9ec333f7-673d-4474-8121-db5990620922",
   "metadata": {},
   "outputs": [
    {
     "name": "stdout",
     "output_type": "stream",
     "text": [
      "      X1    X2    X3  X4  total\n",
      "Y1  12.9  19.2  23.2  12   67.3\n",
      "Y2  12.4  18.7  21.5  13   65.6\n",
      "Y3  12.0  17.2  20.8  14   64.0\n",
      "Y4  12.3  18.5  22.3  13   66.1\n",
      "Y5  13.2  19.6  22.6  12   67.4\n",
      "Y6  20.0  30.0  40.0  50  140.0\n"
     ]
    }
   ],
   "source": [
    "df[\"total\"] = df[\"X1\"] + df[\"X2\"] + df[\"X3\"] + df[\"X4\"]\n",
    "print(df)"
   ]
  },
  {
   "cell_type": "code",
   "execution_count": 25,
   "id": "4150f923-51aa-4c53-8d61-b1a467e61d58",
   "metadata": {},
   "outputs": [
    {
     "name": "stdout",
     "output_type": "stream",
     "text": [
      "         Y1    Y2    Y3    Y4    Y5     Y6\n",
      "X1     12.9  12.4  12.0  12.3  13.2   20.0\n",
      "X2     19.2  18.7  17.2  18.5  19.6   30.0\n",
      "X3     23.2  21.5  20.8  22.3  22.6   40.0\n",
      "X4     12.0  13.0  14.0  13.0  12.0   50.0\n",
      "total  67.3  65.6  64.0  66.1  67.4  140.0\n"
     ]
    }
   ],
   "source": [
    "df = df.transpose()\n",
    "print(df)"
   ]
  },
  {
   "cell_type": "code",
   "execution_count": 26,
   "id": "a70f277d-c9ce-40df-8bcb-60cb7bd08c6b",
   "metadata": {},
   "outputs": [],
   "source": [
    "dfCopy.loc[\"Y6\"] = [10, 20, 30, 40]\n",
    "dfCopy = dfCopy + 10"
   ]
  },
  {
   "cell_type": "code",
   "execution_count": 27,
   "id": "ff436fdc-1916-452b-b78c-c93b29c9d56a",
   "metadata": {},
   "outputs": [
    {
     "name": "stdout",
     "output_type": "stream",
     "text": [
      "      X1    X2    X3  X4  total\n",
      "Y1  22.9  29.2  33.2  22  107.3\n",
      "Y2  22.4  28.7  31.5  23  105.6\n",
      "Y3  22.0  27.2  30.8  24  104.0\n",
      "Y4  22.3  28.5  32.3  23  106.1\n",
      "Y5  23.2  29.6  32.6  22  107.4\n",
      "Y6  20.0  30.0  40.0  50  140.0\n"
     ]
    }
   ],
   "source": [
    "dfCopy[\"total\"] = dfCopy.X1 + dfCopy.X2 + dfCopy.X3 + dfCopy.X4\n",
    "print(dfCopy)"
   ]
  },
  {
   "cell_type": "code",
   "execution_count": 28,
   "id": "350cbd75-e52d-49f7-b42d-f9e69962db86",
   "metadata": {},
   "outputs": [
    {
     "name": "stdout",
     "output_type": "stream",
     "text": [
      "          Y1     Y2     Y3     Y4     Y5     Y6\n",
      "X1      22.9   22.4   22.0   22.3   23.2   20.0\n",
      "X2      29.2   28.7   27.2   28.5   29.6   30.0\n",
      "X3      33.2   31.5   30.8   32.3   32.6   40.0\n",
      "X4      22.0   23.0   24.0   23.0   22.0   50.0\n",
      "total  107.3  105.6  104.0  106.1  107.4  140.0\n"
     ]
    }
   ],
   "source": [
    "dfCopy = dfCopy.T\n",
    "print(dfCopy)"
   ]
  },
  {
   "cell_type": "code",
   "execution_count": null,
   "id": "96211a4e-846f-495e-b6ce-de1071fa4003",
   "metadata": {},
   "outputs": [],
   "source": []
  }
 ],
 "metadata": {
  "kernelspec": {
   "display_name": "eduvenv",
   "language": "python",
   "name": "eduvenv"
  },
  "language_info": {
   "codemirror_mode": {
    "name": "ipython",
    "version": 3
   },
   "file_extension": ".py",
   "mimetype": "text/x-python",
   "name": "python",
   "nbconvert_exporter": "python",
   "pygments_lexer": "ipython3",
   "version": "3.9.12"
  }
 },
 "nbformat": 4,
 "nbformat_minor": 5
}
