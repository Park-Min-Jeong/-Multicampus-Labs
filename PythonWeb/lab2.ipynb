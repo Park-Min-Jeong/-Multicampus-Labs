{
 "cells": [
  {
   "cell_type": "code",
   "execution_count": 1,
   "id": "485eba8f-12e0-4cc6-910e-cf4ca9ca7a16",
   "metadata": {},
   "outputs": [],
   "source": [
    "import requests\n",
    "from bs4 import BeautifulSoup\n",
    "\n",
    "url = \"http://unico2013.dothome.co.kr/crawling/exercise_bs.html\""
   ]
  },
  {
   "cell_type": "code",
   "execution_count": 15,
   "id": "8d9e60f7-9ebb-4d22-b9c9-90a15632681e",
   "metadata": {},
   "outputs": [],
   "source": [
    "req = requests.get(url)\n",
    "html = req.content\n",
    "\n",
    "html = html.decode('utf-8')\n",
    "bs = BeautifulSoup(html, \"html.parser\")"
   ]
  },
  {
   "cell_type": "code",
   "execution_count": 116,
   "id": "95300357-b382-42be-9248-46bd77682279",
   "metadata": {},
   "outputs": [
    {
     "name": "stdout",
     "output_type": "stream",
     "text": [
      "[<h1> 태그의 콘텐츠] HTML의 링크 태그\n",
      "[텍스트 형식으로 내용을 가지고 있는 <a> 태그의 콘텐츠와 href 속성값]\n",
      "World Wide Consortium : http://www.w3.org/\n",
      "Java Page : http://java.sun.com/\n",
      "Python Page : http://www.python.org/\n",
      "Web Client 기술 학습 : http://www.w3schools.com/\n",
      "[<img> 태그의 src 속성값] http://unico2013.dothome.co.kr/image/duke.jpg\n",
      "[첫 번째 <h2> 태그의 콘텐츠] 좋아하는 색\n",
      "[<ul> 태그의 자식 태그들 중 style 속성의 값이 green으로 끝나는 태그의 콘텐츠] 녹색\n",
      "[두 번째 <h2> 태그의 콘텐츠] 먹고싶은 음식\n",
      "[<ol> 태그의 모든 자식 태그들의 콘텐츠]\n",
      "짜장면\n",
      "냉면\n",
      "돈까스\n",
      "갈비\n",
      "[<table> 태그의 모든 자손 태그들의 콘텐츠]\n",
      "둘리또치도우너\n",
      "케라토사우루스타조외계인\n",
      "도봉구 쌍문동아프리카깐따삐아 별\n",
      "[name이라는 클래스 속성을 갖는 <tr> 태그의 콘텐츠] 둘리또치도우너\n",
      "[target이라는 아이디 속성을 갖는 <td> 태그의 콘텐츠] 아프리카\n"
     ]
    }
   ],
   "source": [
    "print(\"[<h1> 태그의 콘텐츠]\", end=\" \")\n",
    "print(bs.find(\"h1\").string)\n",
    "\n",
    "print(\"[텍스트 형식으로 내용을 가지고 있는 <a> 태그의 콘텐츠와 href 속성값]\")\n",
    "tags = bs.find_all(\"a\", string=True)\n",
    "for tag in tags:\n",
    "    print(tag.string + \" : \" + tag[\"href\"])\n",
    "    \n",
    "print(\"[<img> 태그의 src 속성값]\", end=\" \")\n",
    "print(bs.find(\"img\")[\"src\"])\n",
    "\n",
    "print(\"[첫 번째 <h2> 태그의 콘텐츠]\", end=\" \")\n",
    "print(bs.find_all(\"h2\")[0].string)\n",
    "\n",
    "print(\"[<ul> 태그의 자식 태그들 중 style 속성의 값이 green으로 끝나는 태그의 콘텐츠]\", end=\" \")\n",
    "print(bs.select(\"ul [style$=green]\")[0].string)\n",
    "\n",
    "print(\"[두 번째 <h2> 태그의 콘텐츠]\", end=\" \")\n",
    "print(bs.find_all(\"h2\")[1].string)\n",
    "\n",
    "print(\"[<ol> 태그의 모든 자식 태그들의 콘텐츠]\")\n",
    "tags = bs.select(\"ol *\")\n",
    "for tag in tags:\n",
    "    print(tag.string)\n",
    "    \n",
    "print(\"[<table> 태그의 모든 자손 태그들의 콘텐츠]\")\n",
    "tags = bs.select(\"table > *\")\n",
    "for tag in tags:\n",
    "    print(tag.text)\n",
    "\n",
    "print(\"[name이라는 클래스 속성을 갖는 <tr> 태그의 콘텐츠]\", end=\" \")\n",
    "print(bs.find(\"tr\", attrs={\"class\":\"name\"}).text)\n",
    "\n",
    "print(\"[target이라는 아이디 속성을 갖는 <td> 태그의 콘텐츠]\", end=\" \")\n",
    "print(bs.find(\"td\", attrs={\"id\":\"target\"}).text)"
   ]
  }
 ],
 "metadata": {
  "kernelspec": {
   "display_name": "eduvenv",
   "language": "python",
   "name": "eduvenv"
  },
  "language_info": {
   "codemirror_mode": {
    "name": "ipython",
    "version": 3
   },
   "file_extension": ".py",
   "mimetype": "text/x-python",
   "name": "python",
   "nbconvert_exporter": "python",
   "pygments_lexer": "ipython3",
   "version": "3.9.12"
  }
 },
 "nbformat": 4,
 "nbformat_minor": 5
}
