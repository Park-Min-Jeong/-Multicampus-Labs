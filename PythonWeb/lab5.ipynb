{
 "cells": [
  {
   "cell_type": "code",
   "execution_count": 13,
   "id": "ad2b3352-fae8-448d-b18c-a49cd436cea3",
   "metadata": {},
   "outputs": [],
   "source": [
    "import pandas as pd\n",
    "import re\n",
    "import time\n",
    "\n",
    "from selenium import webdriver\n",
    "from selenium.webdriver.common.by import By\n",
    "from selenium.webdriver.chrome.service import Service\n",
    "\n",
    "url = \"http://gs25.gsretail.com/gscvs/ko/products/event-goods\""
   ]
  },
  {
   "cell_type": "code",
   "execution_count": 14,
   "id": "dd8b5404-f5ae-47dc-a238-24d7ebc8f82a",
   "metadata": {},
   "outputs": [],
   "source": [
    "driver = webdriver.Chrome(service=Service(\"./temp/chromedriver\"))\n",
    "# driver = webdriver.Chrome(service=Service('C:/Temp/chromedriver'))\n",
    "\n",
    "driver.implicitly_wait(3)\n",
    "driver.get(url)"
   ]
  },
  {
   "cell_type": "code",
   "execution_count": 16,
   "id": "7cda4588-762e-4a01-89f9-04381812302f",
   "metadata": {},
   "outputs": [
    {
     "name": "stdout",
     "output_type": "stream",
     "text": [
      "['푸르밀)웰치사과에이드250ML', '푸르밀)웰치포도에이드250ML', '하겐)녹차파인트', '하겐)딸기파인트', '하겐)레드벨벳치즈케이크파인트', '하겐)마카다미아파인트', '하겐)바닐라라즈베리파인트', '하겐)바닐라밀크티파인트', '하겐)바닐라파인트', '하겐)벨지안초콜릿&헤이즐넛파인', '하겐)쵸코렛파인트', '하겐)쿠키앤크림파인트', '하겐)트위스트초코딸기파인트', '하겐)트위스트초코바닐라파인트', '오뚜기)육개장(소컵)', '그대로쫀득고구마스틱(20G)', '더스윗)틱톡젤리딸기3000', '더스윗)틱톡젤리포도3000', '피니)라즈앤드블랙베리85G', '피니)젤리빈90G', '피니)젤리웜즈100G', '피니)콜라보틀젤리100G', '피니)크로커다일젤리100G', '피니)피지웜즈100G', '피니)해피믹스90G', '피니)해피사우워믹스90G', '마즈)스니커즈미니20G', '거산)당근꿀맛고구마60G(봉)', '거산)찰진꿀맛고구마60G(봉)', '거산)호박꿀맛고구마60G(봉)', '거산)꿀머군고구마(120G/봉)', '돌)건망고(80G/봉)', '돌)감귤컵198G', '돌)망고컵198G', '돌)복숭아컵198G', '돌)파인애플컵198G', 'TDF)조카스타웨이퍼롤메이플400G', 'TDF)조카스타웨이퍼롤애플파이', '흥선)임실치즈갈릭크래커60G', '유어스(P)슈퍼말차워터500ML', '웅진)꿀홍삼PET280ML', '웅진)내사랑유자CPET280ML', '웅진)꿀먹은헛개180ML병', '웅진)꿀홍삼180ML병', '동아)데자와밀크티캔240ML', '썬키스트)모과생강280ML', '해태)썬키스트허니유자280ML', '조지아)맥스커피240ML', '조지아)카페라떼240ML', '팜트리)궁중발효홍삼100ML', '칸타타)아메리카노275ML(NB캔)', '칸타타)콜드브루블랙275ML(NB캔)', '칸타타)프리미엄라떼275ML(NB캔)', '레쓰비)카페타임라떼240ML', '레쓰비)카페타임헤이즐넛240ML', '흥선)떡볶이스낵김치컵라면맛', '흥선)빼바프로틴레드27G', '오징어물회330G(냉동)', '납딱한오다리25G', '대구노가리30G', '도톰한오징어25G', '켈로그)베리앤넛에너지바1400', '켈로그)첵스초코오리지널', '켈)프로틴그래놀라바고소한맛35G', '켈)프로틴그래놀라바사과맛30G', '프링글스)매콤한맛(대)', '프링글스)양파맛(대)', '프링글스)오리지날(대)', '프링글스)치즈맛(대)', '프링글스슈퍼핫갈릭새우맛110G', 'Y(P)다운타우너치폴레소세지80G', 'Y(P)다운타우너트러플소세지80G', '쫄깃한한입문어70G(냉장)', '맥널티)스테비아커피믹스원컵', '맥널티)스테비아제로슈가핫초코', '팔도)비빔장스틱형(10입)', '허쉬)머쉬멜로핫초코원컵30G', '허쉬)민트핫초코원컵30G', '티젠)핫콤부차(진저레몬)10입', '머거본)볶음땅콩100G']\n",
      "['1500', '1500', '15900', '15900', '15900', '15900', '15900', '15900', '15900', '15900', '15900', '15900', '15900', '15900', '1000', '1500', '3000', '3000', '1800', '1800', '1800', '1800', '1800', '1800', '1800', '1800', '600', '3900', '3900', '3900', '2800', '4500', '2900', '2900', '2900', '2900', '5900', '5900', '1500', '2000', '1600', '1600', '1400', '1400', '1500', '1800', '1800', '1200', '1200', '2200', '2200', '2200', '2200', '1200', '1200', '1500', '1500', '8900', '3800', '3800', '3800', '1400', '1200', '1800', '1800', '3700', '3700', '3700', '3700', '3700', '2300', '2300', '5500', '1500', '1800', '7000', '1800', '1800', '7500', '3000']\n",
      "                상품명     가격\n",
      "0  푸르밀)웰치사과에이드250ML   1500\n",
      "1  푸르밀)웰치포도에이드250ML   1500\n",
      "2          하겐)녹차파인트  15900\n",
      "3          하겐)딸기파인트  15900\n",
      "4   하겐)레드벨벳치즈케이크파인트  15900\n"
     ]
    }
   ],
   "source": [
    "goodsname = list()\n",
    "goodsprice = list()\n",
    "\n",
    "btnTwoToOne = driver.find_element(by=By.ID, value=\"TWO_TO_ONE\")\n",
    "btnTwoToOne.click()\n",
    "time.sleep(2)\n",
    "\n",
    "for i in range(10):    \n",
    "    prodList = driver.find_element(by=By.CSS_SELECTOR, value=\"div.tblwrap[style*=block] ul.prod_list\")\n",
    "    goodsname.extend([name.text for name in prodList.find_elements(by=By.CLASS_NAME, value=\"tit\")])\n",
    "    goodsprice.extend([re.sub(\"[,|원]\", \"\", price.text) for price in prodList.find_elements(by=By.CLASS_NAME, value=\"cost\")])\n",
    "\n",
    "    driver.execute_script(\"arguments[0].click();\", driver.find_element(by=By.CSS_SELECTOR, value=\"div.paging a.next\"))\n",
    "    time.sleep(2)\n",
    "\n",
    "print(goodsname)\n",
    "print(goodsprice)\n",
    "\n",
    "df = pd.DataFrame({\"상품명\":goodsname, \"가격\":goodsprice})\n",
    "print(df.head())\n",
    "# df.to_csv(\"output/gs25_twotoone.csv\", index=False)\n",
    "df.to_csv(\"output/gs25_twotoone_2.csv\", index=False)"
   ]
  },
  {
   "cell_type": "code",
   "execution_count": 17,
   "id": "12c8b647-45ab-465a-9581-c7b590d42bf5",
   "metadata": {},
   "outputs": [
    {
     "name": "stdout",
     "output_type": "stream",
     "text": [
      "<class 'pandas.core.frame.DataFrame'>\n",
      "RangeIndex: 80 entries, 0 to 79\n",
      "Data columns (total 2 columns):\n",
      " #   Column  Non-Null Count  Dtype \n",
      "---  ------  --------------  ----- \n",
      " 0   상품명     80 non-null     object\n",
      " 1   가격      80 non-null     object\n",
      "dtypes: object(2)\n",
      "memory usage: 1.4+ KB\n"
     ]
    }
   ],
   "source": [
    "df.info()"
   ]
  },
  {
   "cell_type": "code",
   "execution_count": 18,
   "id": "38ead016-b17a-49d5-b4ef-f6b6ddf5f4f6",
   "metadata": {},
   "outputs": [],
   "source": [
    "driver.quit()"
   ]
  },
  {
   "cell_type": "markdown",
   "id": "95574f10-8f31-4a1d-b641-2f87e9b4f733",
   "metadata": {},
   "source": [
    "### explanation"
   ]
  },
  {
   "cell_type": "code",
   "execution_count": 7,
   "id": "ea6d0f35-6538-4064-834b-8956f5b9d753",
   "metadata": {},
   "outputs": [],
   "source": [
    "import pandas as pd\n",
    "import re, time\n",
    "\n",
    "from selenium import webdriver\n",
    "from selenium.webdriver.common.by import By\n",
    "from selenium.webdriver.chrome.service import Service\n",
    "\n",
    "url = \"http://gs25.gsretail.com/gscvs/ko/products/event-goods\"\n",
    "\n",
    "driver = webdriver.Chrome(service=Service(\"./temp/chromedriver\"))\n",
    "# driver = webdriver.Chrome(service=Service('C:/Temp/chromedriver'))\n",
    "\n",
    "driver.implicitly_wait(3)\n",
    "driver.get(url)"
   ]
  },
  {
   "cell_type": "code",
   "execution_count": 59,
   "id": "e7798506-49c5-4ecc-a9cd-c566aa0df5f6",
   "metadata": {},
   "outputs": [
    {
     "name": "stdout",
     "output_type": "stream",
     "text": [
      "Processing... page 1\n",
      "Processing... page 2\n",
      "Processing... page 3\n",
      "Processing... page 4\n",
      "Processing... page 5\n",
      "Processing... page 6\n",
      "Processing... page 7\n",
      "Processing... page 8\n",
      "Processing... page 9\n",
      "Processing... page 10\n",
      "result: 80\n"
     ]
    }
   ],
   "source": [
    "goodsname = list()\n",
    "goodsprice = list()\n",
    "\n",
    "btnTwoToOne = driver.find_element(by=By.ID, value=\"TWO_TO_ONE\")\n",
    "btnTwoToOne.click()\n",
    "time.sleep(2)\n",
    "\n",
    "for i in range(10):\n",
    "    print(f\"Processing... page {i+1}\")\n",
    "    \n",
    "    prodList = driver.find_element(by=By.CSS_SELECTOR, value=\"div.tblwrap[style*=block] ul.prod_list\")\n",
    "    goodsname.extend([name.text for name in prodList.find_elements(by=By.CLASS_NAME, value=\"tit\")])\n",
    "    goodsprice.extend([re.sub(\"[^0-9]\", \"\", price.text) for price in prodList.find_elements(by=By.CLASS_NAME, value=\"cost\")])\n",
    "    \n",
    "    btnNext = driver.find_element(by=By.LINK_TEXT, value=\"다음 페이지로 이동\")\n",
    "    btnNext.click()\n",
    "    time.sleep(2)\n",
    "\n",
    "print(f\"result: {len(goodsname)}\")\n",
    "\n",
    "df = pd.DataFrame({\"상품명\":goodsname, \"가격\":goodsprice})\n",
    "df.head()\n",
    "df.to_csv(\"output/gs25_twotoone_3.csv\", index=False)"
   ]
  },
  {
   "cell_type": "code",
   "execution_count": 6,
   "id": "6e6eea82-0882-4ff2-a969-605a2e65ef65",
   "metadata": {},
   "outputs": [],
   "source": [
    "driver.quit()"
   ]
  },
  {
   "cell_type": "markdown",
   "id": "ec73d444-4837-4eeb-9fe6-e959ccc1e288",
   "metadata": {},
   "source": [
    "### using function"
   ]
  },
  {
   "cell_type": "code",
   "execution_count": 53,
   "id": "729a761c-186f-4fe4-a5b5-73725736cdad",
   "metadata": {},
   "outputs": [],
   "source": [
    "def crawling_gs():\n",
    "    goodsname = list()\n",
    "    goodsprice = list()\n",
    "    \n",
    "    print(\"Processing... page\", end=\" \")\n",
    "\n",
    "    while True:\n",
    "        print(driver.find_element(by=By.CSS_SELECTOR, value='div.paging a.on').get_attribute('textContent'), end=\" \")\n",
    "        \n",
    "        prodList = driver.find_element(by=By.CSS_SELECTOR, value=\"div.tblwrap[style*=block] ul.prod_list\")\n",
    "        goodsname.extend([name.text for name in prodList.find_elements(by=By.CLASS_NAME, value=\"tit\")])\n",
    "        goodsprice.extend([re.sub(\"[^0-9]\", \"\", price.text) for price in prodList.find_elements(by=By.CLASS_NAME, value=\"cost\")])\n",
    "        \n",
    "        btnNext = driver.find_element(by=By.CSS_SELECTOR, value=\"div.paging a.next\")\n",
    "        if btnNext.get_attribute(\"onclick\") == None:\n",
    "            break\n",
    "        driver.execute_script(\"arguments[0].click();\", btnNext)\n",
    "        time.sleep(2)\n",
    "    \n",
    "    print(f\"{'='*5} result: {len(goodsname)} {'='*5}\")\n",
    "    \n",
    "    df = pd.DataFrame({\"상품명\":goodsname, \"가격\":goodsprice})\n",
    "    \n",
    "    return df"
   ]
  },
  {
   "cell_type": "code",
   "execution_count": 20,
   "id": "769af890-c897-47ab-ad75-204627ace421",
   "metadata": {},
   "outputs": [],
   "source": [
    "import pandas as pd\n",
    "import re, time\n",
    "\n",
    "from selenium import webdriver\n",
    "from selenium.webdriver.common.by import By\n",
    "from selenium.webdriver.chrome.service import Service\n",
    "\n",
    "driver = webdriver.Chrome(service=Service(\"./temp/chromedriver\"))\n",
    "driver.implicitly_wait(3)\n",
    "\n",
    "url = \"http://gs25.gsretail.com/gscvs/ko/products/event-goods\"\n",
    "driver.get(url)\n",
    "\n",
    "btnTotal = driver.find_element(by=By.ID, value=\"TOTAL\")\n",
    "btnTotal.click()\n",
    "time.sleep(2)"
   ]
  },
  {
   "cell_type": "code",
   "execution_count": 54,
   "id": "c49807a1-171b-433d-ae22-400317bee08c",
   "metadata": {},
   "outputs": [
    {
     "name": "stdout",
     "output_type": "stream",
     "text": [
      "Processing... page 1 2 3 4 5 6 7 8 9 10 11 12 13 14 15 16 17 18 19 20 21 22 23 24 25 26 27 28 29 30 31 32 33 34 35 36 37 38 39 40 41 ===== result: 323 =====\n"
     ]
    }
   ],
   "source": [
    "# 1 + 1\n",
    "btnOneToOne = driver.find_element(by=By.ID, value=\"ONE_TO_ONE\")\n",
    "btnOneToOne.click()\n",
    "time.sleep(2)\n",
    "\n",
    "one_df = crawling_gs()\n",
    "one_df[\"유형\"] = \"1+1\""
   ]
  },
  {
   "cell_type": "code",
   "execution_count": 55,
   "id": "87c10cde-7d62-4134-9c7f-9e3f297049af",
   "metadata": {},
   "outputs": [
    {
     "name": "stdout",
     "output_type": "stream",
     "text": [
      "Processing... page 1 2 3 4 5 6 7 8 9 10 11 12 13 14 15 16 17 18 19 20 21 22 23 24 25 26 27 28 29 30 31 32 33 34 35 36 37 38 39 40 41 42 43 44 45 46 47 48 49 50 51 52 53 54 55 56 57 58 59 60 61 62 63 64 65 66 67 68 69 70 71 72 73 74 75 76 77 78 79 80 81 82 83 84 85 86 87 88 89 90 91 92 93 94 95 96 97 98 99 100 101 102 103 104 105 106 107 108 109 110 111 112 113 114 115 116 117 118 119 120 121 122 123 ===== result: 984 =====\n"
     ]
    }
   ],
   "source": [
    "# 2 + 1\n",
    "btnTwoToOne = driver.find_element(by=By.ID, value=\"TWO_TO_ONE\")\n",
    "btnTwoToOne.click()\n",
    "time.sleep(2)\n",
    "\n",
    "two_df = crawling_gs()\n",
    "two_df[\"유형\"] = \"2+1\""
   ]
  },
  {
   "cell_type": "code",
   "execution_count": 60,
   "id": "145eb04f-223a-4fe4-a690-11bf2b48cab3",
   "metadata": {},
   "outputs": [],
   "source": [
    "df = pd.concat([one_df, two_df], ignore_index=True)\n",
    "df.to_csv(\"output/gs.csv\")"
   ]
  },
  {
   "cell_type": "code",
   "execution_count": 62,
   "id": "b277fa90-9a5a-41b6-b57c-6cef3daa1896",
   "metadata": {},
   "outputs": [],
   "source": [
    "driver.quit()"
   ]
  }
 ],
 "metadata": {
  "kernelspec": {
   "display_name": "eduvenv",
   "language": "python",
   "name": "eduvenv"
  },
  "language_info": {
   "codemirror_mode": {
    "name": "ipython",
    "version": 3
   },
   "file_extension": ".py",
   "mimetype": "text/x-python",
   "name": "python",
   "nbconvert_exporter": "python",
   "pygments_lexer": "ipython3",
   "version": "3.9.12"
  }
 },
 "nbformat": 4,
 "nbformat_minor": 5
}
