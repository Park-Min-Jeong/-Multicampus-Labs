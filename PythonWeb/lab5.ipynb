{
 "cells": [
  {
   "cell_type": "code",
   "execution_count": 1,
   "id": "ad2b3352-fae8-448d-b18c-a49cd436cea3",
   "metadata": {},
   "outputs": [],
   "source": [
    "import pandas as pd\n",
    "import re\n",
    "import time\n",
    "\n",
    "from selenium import webdriver\n",
    "from selenium.webdriver.common.by import By\n",
    "from selenium.webdriver.chrome.service import Service\n",
    "\n",
    "url = \"http://gs25.gsretail.com/gscvs/ko/products/event-goods\""
   ]
  },
  {
   "cell_type": "code",
   "execution_count": 2,
   "id": "dd8b5404-f5ae-47dc-a238-24d7ebc8f82a",
   "metadata": {},
   "outputs": [],
   "source": [
    "driver = webdriver.Chrome(service=Service(\"./temp/chromedriver\"))\n",
    "# driver = webdriver.Chrome(service=Service('C:/Temp/chromedriver'))\n",
    "\n",
    "driver.implicitly_wait(3)\n",
    "driver.get(url)"
   ]
  },
  {
   "cell_type": "code",
   "execution_count": 4,
   "id": "7cda4588-762e-4a01-89f9-04381812302f",
   "metadata": {},
   "outputs": [
    {
     "name": "stdout",
     "output_type": "stream",
     "text": [
      "['푸르밀)웰치사과에이드250ML', '푸르밀)웰치포도에이드250ML', '하겐)녹차파인트', '하겐)딸기파인트', '하겐)레드벨벳치즈케이크파인트', '하겐)마카다미아파인트', '하겐)바닐라라즈베리파인트', '하겐)바닐라밀크티파인트', '하겐)바닐라파인트', '하겐)벨지안초콜릿&헤이즐넛파인', '하겐)쵸코렛파인트', '하겐)쿠키앤크림파인트', '하겐)트위스트초코딸기파인트', '하겐)트위스트초코바닐라파인트', '오뚜기)육개장(소컵)', '그대로쫀득고구마스틱(20G)', '더스윗)틱톡젤리딸기3000', '더스윗)틱톡젤리포도3000', '피니)라즈앤드블랙베리85G', '피니)젤리빈90G', '피니)젤리웜즈100G', '피니)콜라보틀젤리100G', '피니)크로커다일젤리100G', '피니)피지웜즈100G', '피니)해피믹스90G', '피니)해피사우워믹스90G', '마즈)스니커즈미니20G', '거산)당근꿀맛고구마60G(봉)', '거산)찰진꿀맛고구마60G(봉)', '거산)호박꿀맛고구마60G(봉)', '거산)꿀머군고구마(120G/봉)', '돌)건망고(80G/봉)', '돌)감귤컵198G', '돌)망고컵198G', '돌)복숭아컵198G', '돌)파인애플컵198G', 'TDF)조카스타웨이퍼롤메이플400G', 'TDF)조카스타웨이퍼롤애플파이', '흥선)임실치즈갈릭크래커60G', '유어스(P)슈퍼말차워터500ML', '웅진)꿀홍삼PET280ML', '웅진)내사랑유자CPET280ML', '웅진)꿀먹은헛개180ML병', '웅진)꿀홍삼180ML병', '동아)데자와밀크티캔240ML', '썬키스트)모과생강280ML', '해태)썬키스트허니유자280ML', '조지아)맥스커피240ML', '조지아)카페라떼240ML', '팜트리)궁중발효홍삼100ML', '칸타타)아메리카노275ML(NB캔)', '칸타타)콜드브루블랙275ML(NB캔)', '칸타타)프리미엄라떼275ML(NB캔)', '레쓰비)카페타임라떼240ML', '레쓰비)카페타임헤이즐넛240ML', '흥선)떡볶이스낵김치컵라면맛', '흥선)빼바프로틴레드27G', '오징어물회330G(냉동)', '납딱한오다리25G', '대구노가리30G', '도톰한오징어25G', '켈로그)베리앤넛에너지바1400', '켈로그)첵스초코오리지널', '켈)프로틴그래놀라바고소한맛35G', '켈)프로틴그래놀라바사과맛30G', '프링글스)매콤한맛(대)', '프링글스)양파맛(대)', '프링글스)오리지날(대)', '프링글스)치즈맛(대)', '프링글스슈퍼핫갈릭새우맛110G', 'Y(P)다운타우너치폴레소세지80G', 'Y(P)다운타우너트러플소세지80G', '쫄깃한한입문어70G(냉장)', '맥널티)스테비아커피믹스원컵', '맥널티)스테비아제로슈가핫초코', '팔도)비빔장스틱형(10입)', '허쉬)머쉬멜로핫초코원컵30G', '허쉬)민트핫초코원컵30G', '티젠)핫콤부차(진저레몬)10입', '머거본)볶음땅콩100G']\n",
      "['1500', '1500', '15900', '15900', '15900', '15900', '15900', '15900', '15900', '15900', '15900', '15900', '15900', '15900', '1000', '1500', '3000', '3000', '1800', '1800', '1800', '1800', '1800', '1800', '1800', '1800', '600', '3900', '3900', '3900', '2800', '4500', '2900', '2900', '2900', '2900', '5900', '5900', '1500', '2000', '1600', '1600', '1400', '1400', '1500', '1800', '1800', '1200', '1200', '2200', '2200', '2200', '2200', '1200', '1200', '1500', '1500', '8900', '3800', '3800', '3800', '1400', '1200', '1800', '1800', '3700', '3700', '3700', '3700', '3700', '2300', '2300', '5500', '1500', '1800', '7000', '1800', '1800', '7500', '3000']\n"
     ]
    }
   ],
   "source": [
    "goodsname = list()\n",
    "goodsprice = list()\n",
    "\n",
    "btnTwoToOne = driver.find_element(by=By.ID, value=\"TWO_TO_ONE\")\n",
    "btnTwoToOne.click()\n",
    "time.sleep(2)\n",
    "\n",
    "for i in range(10):    \n",
    "    prodList = driver.find_element(by=By.CSS_SELECTOR, value=\"div.tblwrap[style*=block] ul.prod_list\")\n",
    "    goodsname.extend([name.text for name in prodList.find_elements(by=By.CLASS_NAME, value=\"tit\")])\n",
    "    goodsprice.extend([re.sub(\"[,|원]\", \"\", price.text) for price in prodList.find_elements(by=By.CLASS_NAME, value=\"cost\")])\n",
    "\n",
    "    driver.execute_script(\"arguments[0].click();\", driver.find_element(by=By.CSS_SELECTOR, value=\"div.paging a.next\"))\n",
    "    time.sleep(2)\n",
    "\n",
    "print(goodsname)\n",
    "print(goodsprice)\n",
    "\n",
    "df = pd.DataFrame({\"상품명\":goodsname, \"가격\":goodsprice})\n",
    "df.head()\n",
    "df.to_csv(\"output/gs25_twotoone.csv\", index=False)"
   ]
  },
  {
   "cell_type": "code",
   "execution_count": 5,
   "id": "12c8b647-45ab-465a-9581-c7b590d42bf5",
   "metadata": {},
   "outputs": [
    {
     "name": "stdout",
     "output_type": "stream",
     "text": [
      "<class 'pandas.core.frame.DataFrame'>\n",
      "RangeIndex: 80 entries, 0 to 79\n",
      "Data columns (total 2 columns):\n",
      " #   Column  Non-Null Count  Dtype \n",
      "---  ------  --------------  ----- \n",
      " 0   상품명     80 non-null     object\n",
      " 1   가격      80 non-null     object\n",
      "dtypes: object(2)\n",
      "memory usage: 1.4+ KB\n"
     ]
    }
   ],
   "source": [
    "df.info()"
   ]
  },
  {
   "cell_type": "code",
   "execution_count": 6,
   "id": "38ead016-b17a-49d5-b4ef-f6b6ddf5f4f6",
   "metadata": {},
   "outputs": [],
   "source": [
    "driver.quit()"
   ]
  }
 ],
 "metadata": {
  "kernelspec": {
   "display_name": "eduvenv",
   "language": "python",
   "name": "eduvenv"
  },
  "language_info": {
   "codemirror_mode": {
    "name": "ipython",
    "version": 3
   },
   "file_extension": ".py",
   "mimetype": "text/x-python",
   "name": "python",
   "nbconvert_exporter": "python",
   "pygments_lexer": "ipython3",
   "version": "3.9.12"
  }
 },
 "nbformat": 4,
 "nbformat_minor": 5
}
